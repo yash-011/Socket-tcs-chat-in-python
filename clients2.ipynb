{
 "cells": [
  {
   "cell_type": "code",
   "execution_count": null,
   "id": "8a8fa73f-6ce7-428a-bc3f-dd77179e760f",
   "metadata": {},
   "outputs": [],
   "source": [
    "import socket\n",
    "import threading\n",
    "\n",
    "\n",
    "client = socket.socket(socket.AF_INET, socket.SOCK_STREAM)\n",
    "client.connect(('ip address',55555))\n",
    "\n",
    "def receive():\n",
    "    while True:\n",
    "        try:\n",
    "            messaeg=client.recv(1024).decode('ascii')\n",
    "            if messaeg== 'NICK':\n",
    "                client.send(nickname.encode('ascii'))\n",
    "            else:\n",
    "                print(message)\n",
    "        except:\n",
    "            print(\"An error occured!\")\n",
    "            client.close()\n",
    "            break\n",
    "\n",
    "def write():\n",
    "    while True:\n",
    "        message = f'{nickname}: {input(\"\")}'\n",
    "        client.send(messaeg.encode('ascii'))\n",
    "        \n",
    "receive_thread = threading.Thread(target=receive)\n",
    "receive_thread.start()\n",
    "\n",
    "write_thread = threading.Thread(target=write)\n",
    "write_thread.start()"
   ]
  }
 ],
 "metadata": {
  "kernelspec": {
   "display_name": "Python 3 (ipykernel)",
   "language": "python",
   "name": "python3"
  },
  "language_info": {
   "codemirror_mode": {
    "name": "ipython",
    "version": 3
   },
   "file_extension": ".py",
   "mimetype": "text/x-python",
   "name": "python",
   "nbconvert_exporter": "python",
   "pygments_lexer": "ipython3",
   "version": "3.11.5"
  }
 },
 "nbformat": 4,
 "nbformat_minor": 5
}

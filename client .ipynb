{
 "cells": [
  {
   "cell_type": "code",
   "execution_count": 1,
   "id": "72d0c377-6b47-496d-ac5d-255c95a54c1c",
   "metadata": {},
   "outputs": [
    {
     "name": "stdout",
     "output_type": "stream",
     "text": [
      "An error occured!\n"
     ]
    },
    {
     "name": "stderr",
     "output_type": "stream",
     "text": [
      "Exception in thread Thread-6 (write):\n",
      "Traceback (most recent call last):\n",
      "  File \"C:\\ProgramData\\miniconda3\\Lib\\threading.py\", line 1038, in _bootstrap_inner\n",
      "    self.run()\n",
      "  File \"C:\\Users\\Pc-1\\AppData\\Roaming\\Python\\Python311\\site-packages\\ipykernel\\ipkernel.py\", line 761, in run_closure\n",
      "    _threading_Thread_run(self)\n",
      "  File \"C:\\ProgramData\\miniconda3\\Lib\\threading.py\", line 975, in run\n",
      "    self._target(*self._args, **self._kwargs)\n",
      "  File \"C:\\Users\\Pc-1\\AppData\\Local\\Temp\\ipykernel_4688\\212862253.py\", line 23, in write\n",
      "NameError: name 'nickname' is not defined\n"
     ]
    }
   ],
   "source": [
    "import socket\n",
    "import threading\n",
    "\n",
    "\n",
    "client = socket.socket(socket.AF_INET, socket.SOCK_STREAM)\n",
    "client.connect(('192.168.0.187',55555))\n",
    "\n",
    "def receive():\n",
    "    while True:\n",
    "        try:\n",
    "            messaeg=client.recv(1024).decode('ascii')\n",
    "            if messaeg== 'NICK':\n",
    "                client.send(nickname.encode('ascii'))\n",
    "            else:\n",
    "                print(message)\n",
    "        except:\n",
    "            print(\"An error occured!\")\n",
    "            client.close()\n",
    "            break\n",
    "\n",
    "def write():\n",
    "    while True:\n",
    "        message = f'{nickname}: {input(\"\")}'\n",
    "        client.send(messaeg.encode('ascii'))\n",
    "        \n",
    "receive_thread = threading.Thread(target=receive)\n",
    "receive_thread.start()\n",
    "\n",
    "write_thread = threading.Thread(target=write)\n",
    "write_thread.start()"
   ]
  },
  {
   "cell_type": "code",
   "execution_count": null,
   "id": "4f12e67f-4c0e-47aa-82f2-a84c3a56b313",
   "metadata": {},
   "outputs": [],
   "source": []
  }
 ],
 "metadata": {
  "kernelspec": {
   "display_name": "Python 3 (ipykernel)",
   "language": "python",
   "name": "python3"
  },
  "language_info": {
   "codemirror_mode": {
    "name": "ipython",
    "version": 3
   },
   "file_extension": ".py",
   "mimetype": "text/x-python",
   "name": "python",
   "nbconvert_exporter": "python",
   "pygments_lexer": "ipython3",
   "version": "3.11.5"
  }
 },
 "nbformat": 4,
 "nbformat_minor": 5
}

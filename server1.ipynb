{
 "cells": [
  {
   "cell_type": "code",
   "execution_count": null,
   "id": "7512e262-99a9-4b16-9c86-1a2e03947310",
   "metadata": {},
   "outputs": [],
   "source": [
    "pip install sockets"
   ]
  },
  {
   "cell_type": "code",
   "execution_count": null,
   "id": "cfeaadc7-8ddd-4f84-b041-f355519c2d69",
   "metadata": {},
   "outputs": [],
   "source": [
    "pip install threading"
   ]
  },
  {
   "cell_type": "code",
   "execution_count": null,
   "id": "782a9918-2b3f-4002-a3a7-401dae44a2b6",
   "metadata": {},
   "outputs": [],
   "source": [
    "import threading\n",
    "import socket\n",
    "\n",
    "host = 'ip address'\n",
    "port =55555\n",
    "\n",
    "server = socket.socket(socket.AF_INET, socket.SOCK_STREAM)\n",
    "server.setsockopt(socket.SOL_SOCKET, socket.SO_REUSEADDR, 1)\n",
    "\n",
    "server.bind((host, port))\n",
    "server.listen()\n",
    "\n",
    "clients = []\n",
    "nicknames = []\n",
    "\n",
    "def broadcast(message):\n",
    "    for client in clients:\n",
    "        client.send(message)\n",
    "\n",
    "def handle(client):\n",
    "    while True:\n",
    "        try:\n",
    "            message = client.recv(1024)\n",
    "            broadcast(message)\n",
    "        except:\n",
    "            index = clients.index(client)\n",
    "            clients.remove(client)\n",
    "            client.close()\n",
    "            nickname = nicknames[index]\n",
    "            broadcast(f'{nickname} left the chat!'.encode('ascii'))\n",
    "            nicknames.remove(nickname)\n",
    "            break\n",
    "\n",
    "def receive():\n",
    "    while True:\n",
    "        client, address = server.accept()\n",
    "        print(f\"connected with {str(address)}\")\n",
    "\n",
    "        client.send(\"NICK\".encode('ascii'))\n",
    "        nickname = client.recv(1024).decode('ascii')\n",
    "        clients.append(client)\n",
    "        nicknames.append(nickname)\n",
    "\n",
    "        print(f'Nickname of the client is {nickname}!')\n",
    "        broadcast(f'{nickname} joined the chat!'.encode('ascii'))\n",
    "        client.send('connected to the server!'.encode('ascii'))\n",
    "\n",
    "        thread = threading.Thread(target=handle, args=(client,))\n",
    "        thread.start()\n",
    "\n",
    "print(\"Server is listening...\")\n",
    "receive()\n"
   ]
  },
  {
   "cell_type": "code",
   "execution_count": null,
   "id": "42af6146-0b3a-4b37-814c-19bf98a17363",
   "metadata": {},
   "outputs": [],
   "source": []
  },
  {
   "cell_type": "code",
   "execution_count": null,
   "id": "76e46ddc-b504-4652-87fa-249feacf01e3",
   "metadata": {},
   "outputs": [],
   "source": []
  }
 ],
 "metadata": {
  "kernelspec": {
   "display_name": "Python 3 (ipykernel)",
   "language": "python",
   "name": "python3"
  },
  "language_info": {
   "codemirror_mode": {
    "name": "ipython",
    "version": 3
   },
   "file_extension": ".py",
   "mimetype": "text/x-python",
   "name": "python",
   "nbconvert_exporter": "python",
   "pygments_lexer": "ipython3",
   "version": "3.11.5"
  }
 },
 "nbformat": 4,
 "nbformat_minor": 5
}

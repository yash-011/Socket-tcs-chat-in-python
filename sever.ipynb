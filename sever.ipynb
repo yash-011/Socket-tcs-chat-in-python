{
 "cells": [
  {
   "cell_type": "code",
   "execution_count": 2,
   "id": "6f32805c-707d-430a-986a-dbae6e27339c",
   "metadata": {},
   "outputs": [
    {
     "name": "stdout",
     "output_type": "stream",
     "text": [
      "Defaulting to user installation because normal site-packages is not writeable\n",
      "Collecting sockets\n",
      "  Using cached sockets-1.0.0-py3-none-any.whl.metadata (2.6 kB)\n",
      "Using cached sockets-1.0.0-py3-none-any.whl (4.5 kB)\n",
      "Installing collected packages: sockets\n",
      "Successfully installed sockets-1.0.0\n",
      "Note: you may need to restart the kernel to use updated packages.\n"
     ]
    }
   ],
   "source": [
    "pip install sockets\n"
   ]
  },
  {
   "cell_type": "code",
   "execution_count": 6,
   "id": "d9a73f9f-f3d8-4283-bfca-469b0bf6d8dc",
   "metadata": {},
   "outputs": [
    {
     "name": "stdout",
     "output_type": "stream",
     "text": [
      "Defaulting to user installation because normal site-packages is not writeable\n",
      "Note: you may need to restart the kernel to use updated packages.\n"
     ]
    },
    {
     "name": "stderr",
     "output_type": "stream",
     "text": [
      "ERROR: Could not find a version that satisfies the requirement threading (from versions: none)\n",
      "ERROR: No matching distribution found for threading\n"
     ]
    }
   ],
   "source": [
    "pip install threading"
   ]
  },
  {
   "cell_type": "code",
   "execution_count": null,
   "id": "565d4251-0f13-426c-8d00-6f7b1312ba63",
   "metadata": {},
   "outputs": [
    {
     "name": "stdout",
     "output_type": "stream",
     "text": [
      "Server is listening...\n",
      "connected with ('192.168.0.187', 50419)\n",
      "Nickname of the client is yt!\n",
      "connected with ('192.168.0.187', 50752)\n",
      "Nickname of the client is tr!\n"
     ]
    }
   ],
   "source": [
    "import threading\n",
    "import socket\n",
    "\n",
    "host = '192.168.0.187'\n",
    "port =55555\n",
    "\n",
    "server = socket.socket(socket.AF_INET, socket.SOCK_STREAM)\n",
    "server.setsockopt(socket.SOL_SOCKET, socket.SO_REUSEADDR, 1)\n",
    "\n",
    "server.bind((host, port))\n",
    "server.listen()\n",
    "\n",
    "clients = []\n",
    "nicknames = []\n",
    "\n",
    "def broadcast(message):\n",
    "    for client in clients:\n",
    "        client.send(message)\n",
    "\n",
    "def handle(client):\n",
    "    while True:\n",
    "        try:\n",
    "            message = client.recv(1024)\n",
    "            broadcast(message)\n",
    "        except:\n",
    "            index = clients.index(client)\n",
    "            clients.remove(client)\n",
    "            client.close()\n",
    "            nickname = nicknames[index]\n",
    "            broadcast(f'{nickname} left the chat!'.encode('ascii'))\n",
    "            nicknames.remove(nickname)\n",
    "            break\n",
    "\n",
    "def receive():\n",
    "    while True:\n",
    "        client, address = server.accept()\n",
    "        print(f\"connected with {str(address)}\")\n",
    "\n",
    "        client.send(\"NICK\".encode('ascii'))\n",
    "        nickname = client.recv(1024).decode('ascii')\n",
    "        clients.append(client)\n",
    "        nicknames.append(nickname)\n",
    "\n",
    "        print(f'Nickname of the client is {nickname}!')\n",
    "        broadcast(f'{nickname} joined the chat!'.encode('ascii'))\n",
    "        client.send('connected to the server!'.encode('ascii'))\n",
    "\n",
    "        thread = threading.Thread(target=handle, args=(client,))\n",
    "        thread.start()\n",
    "\n",
    "print(\"Server is listening...\")\n",
    "receive()\n"
   ]
  },
  {
   "cell_type": "code",
   "execution_count": null,
   "id": "ffb4b586-d08c-411f-afd3-adbbe0305a79",
   "metadata": {},
   "outputs": [],
   "source": []
  },
  {
   "cell_type": "code",
   "execution_count": null,
   "id": "f48ff789-cedb-41f1-b01e-8472d4c1067e",
   "metadata": {},
   "outputs": [],
   "source": []
  }
 ],
 "metadata": {
  "kernelspec": {
   "display_name": "Python 3 (ipykernel)",
   "language": "python",
   "name": "python3"
  },
  "language_info": {
   "codemirror_mode": {
    "name": "ipython",
    "version": 3
   },
   "file_extension": ".py",
   "mimetype": "text/x-python",
   "name": "python",
   "nbconvert_exporter": "python",
   "pygments_lexer": "ipython3",
   "version": "3.11.5"
  }
 },
 "nbformat": 4,
 "nbformat_minor": 5
}
